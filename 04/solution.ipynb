{
 "cells": [
  {
   "cell_type": "code",
   "execution_count": 186,
   "metadata": {},
   "outputs": [],
   "source": [
    "import re\n",
    "import numpy as np\n",
    "\n",
    "file = open(\"input.txt\") \n",
    "content = file.read()\n",
    "file.close()\n",
    "\n",
    "data = content.split()\n",
    "\n",
    "def matches_in_line(line):\n",
    "    regex = \"XMAS\"\n",
    "    return len(re.findall(regex, line)) + len(re.findall(regex[::-1], line))\n",
    "\n",
    "def transpose(data):\n",
    "    return [\"\".join([row[i] for row in data]) for i in range(len(data[0]))]\n"
   ]
  },
  {
   "cell_type": "code",
   "execution_count": null,
   "metadata": {},
   "outputs": [
    {
     "data": {
      "text/plain": [
       "2551"
      ]
     },
     "execution_count": 187,
     "metadata": {},
     "output_type": "execute_result"
    }
   ],
   "source": [
    "# PART 1\n",
    "result = 0\n",
    "n = len(data) # square matrix\n",
    "blank = \" \"\n",
    "\n",
    "# rows\n",
    "for row in data:\n",
    "    result += matches_in_line(row)\n",
    "\n",
    "# cols\n",
    "for col in transpose(data):\n",
    "    result += matches_in_line(col)\n",
    "\n",
    "# diag1\n",
    "data_ = [i * blank + row + (n - i) * blank for i,row in enumerate(data)]\n",
    "for row in transpose(data_):\n",
    "    result += matches_in_line(row)\n",
    "\n",
    "# diag2\n",
    "data_ = [(n - i) * blank + row  + i * blank for i,row in enumerate(data)]\n",
    "for row in transpose(data_):\n",
    "    result += matches_in_line(row)\n",
    "\n",
    "result\n"
   ]
  },
  {
   "cell_type": "code",
   "execution_count": null,
   "metadata": {},
   "outputs": [
    {
     "data": {
      "text/plain": [
       "1985"
      ]
     },
     "execution_count": 190,
     "metadata": {},
     "output_type": "execute_result"
    }
   ],
   "source": [
    "# PART 2\n",
    "result = 0\n",
    "mas = [\"MAS\", \"SAM\"]\n",
    "for i in range(1, len(data) - 1):\n",
    "    for j in range(1, len(data[0]) - 1):\n",
    "        if data[i][j] == 'A':\n",
    "            x1 = data[i-1][j-1] + \"A\" + data[i+1][j+1]\n",
    "            x2 = data[i-1][j+1] + \"A\" + data[i+1][j-1]\n",
    "            result += x1 in mas and x2 in mas\n",
    "result\n"
   ]
  }
 ],
 "metadata": {
  "kernelspec": {
   "display_name": "Python 3",
   "language": "python",
   "name": "python3"
  },
  "language_info": {
   "codemirror_mode": {
    "name": "ipython",
    "version": 3
   },
   "file_extension": ".py",
   "mimetype": "text/x-python",
   "name": "python",
   "nbconvert_exporter": "python",
   "pygments_lexer": "ipython3",
   "version": "3.10.12"
  }
 },
 "nbformat": 4,
 "nbformat_minor": 2
}
