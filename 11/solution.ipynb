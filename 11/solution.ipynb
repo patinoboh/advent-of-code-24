{
 "cells": [
  {
   "cell_type": "code",
   "execution_count": 61,
   "metadata": {},
   "outputs": [
    {
     "data": {
      "text/plain": [
       "[5910927, 0, 1, 47, 261223, 94788, 545, 7771]"
      ]
     },
     "execution_count": 61,
     "metadata": {},
     "output_type": "execute_result"
    }
   ],
   "source": [
    "file = open(\"input.txt\")\n",
    "content = file.read()\n",
    "file.close()\n",
    "\n",
    "content\n",
    "stones = [int(x) for x in content.split(\" \")]\n",
    "stones"
   ]
  },
  {
   "cell_type": "code",
   "execution_count": null,
   "metadata": {},
   "outputs": [
    {
     "name": "stdout",
     "output_type": "stream",
     "text": [
      "193607\n",
      "229557103025807\n"
     ]
    }
   ],
   "source": [
    "import math\n",
    "def split_stone(stone):\n",
    "    if stone == 0:\n",
    "        return [1]\n",
    "    elif int(math.log10(stone)) % 2 == 1:\n",
    "        l = int(math.log10(stone)) + 1\n",
    "        return [stone // (10** (l/2)), stone % (10** (l/2))]\n",
    "    else:\n",
    "        return [2024 * stone]\n",
    "\n",
    "def pebbles(stones, count, d, max):\n",
    "    if count == max:\n",
    "        return len(stones)\n",
    "    \n",
    "    result = 0\n",
    "    for stone in stones:\n",
    "        if (stone, count) in d:\n",
    "            result += d[(stone, count)]\n",
    "            continue\n",
    "        c = pebbles(split_stone(stone), count + 1, d, max)\n",
    "        d[(stone, count)] = c\n",
    "        result += c\n",
    "    \n",
    "    return result\n",
    "\n",
    "print(pebbles(stones, 0, dict(), 25))\n",
    "print(pebbles(stones, 0, dict(), 75))\n"
   ]
  }
 ],
 "metadata": {
  "kernelspec": {
   "display_name": "Python 3",
   "language": "python",
   "name": "python3"
  },
  "language_info": {
   "codemirror_mode": {
    "name": "ipython",
    "version": 3
   },
   "file_extension": ".py",
   "mimetype": "text/x-python",
   "name": "python",
   "nbconvert_exporter": "python",
   "pygments_lexer": "ipython3",
   "version": "3.10.12"
  }
 },
 "nbformat": 4,
 "nbformat_minor": 2
}
