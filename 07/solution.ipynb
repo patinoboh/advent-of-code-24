{
 "cells": [
  {
   "cell_type": "code",
   "execution_count": 10,
   "metadata": {},
   "outputs": [],
   "source": [
    "file = open(\"input.txt\")\n",
    "content = file.read()\n",
    "file.close()\n",
    "content = content.split(\"\\n\")"
   ]
  },
  {
   "cell_type": "code",
   "execution_count": 51,
   "metadata": {},
   "outputs": [],
   "source": [
    "values = [int(line.split(\":\")[0]) for line in content[:-1]]\n",
    "numss = [[int(x) for x in line.split(\":\")[1].split()] for line in content[:-1]]\n"
   ]
  },
  {
   "cell_type": "code",
   "execution_count": 58,
   "metadata": {},
   "outputs": [
    {
     "data": {
      "text/plain": [
       "500335179214836"
      ]
     },
     "execution_count": 58,
     "metadata": {},
     "output_type": "execute_result"
    }
   ],
   "source": [
    "def part1(line, sum, partial_sum, i):\n",
    "    if i == len(line) - 1:\n",
    "        if partial_sum * line[i] == sum: return sum\n",
    "        if partial_sum + line[i] == sum: return sum\n",
    "        if int(str(partial_sum) + str(line[i])) == sum: return sum\n",
    "        return 0\n",
    "    plus = part1(line, sum, partial_sum + line[i], i + 1)\n",
    "    krat = part1(line, sum, partial_sum * line[i], i + 1)\n",
    "    conc = part1(line, sum, int(str(partial_sum) + str(line[i])), i + 1)\n",
    "    if plus != 0:\n",
    "        return plus\n",
    "    elif conc != 0:\n",
    "        return conc\n",
    "    return krat\n",
    "\n",
    "result = 0\n",
    "for value, nums in zip(values, numss):\n",
    "    result += part1(nums[1:], value, nums[0], 0)\n",
    "\n",
    "result\n",
    "    \n",
    "        \n"
   ]
  }
 ],
 "metadata": {
  "kernelspec": {
   "display_name": "Python 3",
   "language": "python",
   "name": "python3"
  },
  "language_info": {
   "codemirror_mode": {
    "name": "ipython",
    "version": 3
   },
   "file_extension": ".py",
   "mimetype": "text/x-python",
   "name": "python",
   "nbconvert_exporter": "python",
   "pygments_lexer": "ipython3",
   "version": "3.10.12"
  }
 },
 "nbformat": 4,
 "nbformat_minor": 2
}
