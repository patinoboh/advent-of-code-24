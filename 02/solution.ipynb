{
 "cells": [
  {
   "cell_type": "code",
   "execution_count": 1,
   "metadata": {},
   "outputs": [],
   "source": [
    "file = open('input.txt', 'r')\n",
    "content = file.read()\n",
    "data = [[int(x) for x in line.split()] for line in content.split(\"\\n\")]\n",
    "file.close()"
   ]
  },
  {
   "cell_type": "code",
   "execution_count": 2,
   "metadata": {},
   "outputs": [
    {
     "name": "stdout",
     "output_type": "stream",
     "text": [
      "634\n"
     ]
    }
   ],
   "source": [
    "def is_safe(report, first = True):\n",
    "    increasing = report[0] > report[1]\n",
    "    # if first and is_safe(report[1:], False) : return True\n",
    "    \n",
    "    valid = True\n",
    "    for i,level in enumerate(report[:-1]):\n",
    "        level_valid = level > report[i+1] if increasing else level < report[i+1]\n",
    "        level_valid &= 1 <= abs(level - report[i+1]) <= 3\n",
    "        # if first and valid and not level_valid:\n",
    "        #     return is_safe(report[:i] + report[i+1:], False)\n",
    "        valid &= level_valid\n",
    "    return valid\n",
    "\n",
    "\n",
    "result = 0\n",
    "for report in data[:-1]:\n",
    "    good = is_safe(report)\n",
    "    for i,_ in enumerate(report):\n",
    "        good |= is_safe(report[:i] + report[i+1:])\n",
    "    result += good\n",
    "print(result)"
   ]
  }
 ],
 "metadata": {
  "kernelspec": {
   "display_name": "Python 3",
   "language": "python",
   "name": "python3"
  },
  "language_info": {
   "codemirror_mode": {
    "name": "ipython",
    "version": 3
   },
   "file_extension": ".py",
   "mimetype": "text/x-python",
   "name": "python",
   "nbconvert_exporter": "python",
   "pygments_lexer": "ipython3",
   "version": "3.10.12"
  }
 },
 "nbformat": 4,
 "nbformat_minor": 2
}
