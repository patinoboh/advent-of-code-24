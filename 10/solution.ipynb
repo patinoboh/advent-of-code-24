{
 "cells": [
  {
   "cell_type": "code",
   "execution_count": 7,
   "metadata": {},
   "outputs": [],
   "source": [
    "file = open(\"input.txt\")\n",
    "content = file.read()\n",
    "file.close()\n",
    "\n",
    "data = [[int(x) for x in line] for line in content.split()]"
   ]
  },
  {
   "cell_type": "code",
   "execution_count": 18,
   "metadata": {},
   "outputs": [
    {
     "name": "stdout",
     "output_type": "stream",
     "text": [
      "461\n",
      "875\n"
     ]
    }
   ],
   "source": [
    "def trail_heads1(x,y, data):\n",
    "    dirs = [(1,0), (0,1), (-1,0), (0,-1)]\n",
    "    in_range = lambda a, b : 0 <= a < len(data) and 0 <= b < len(data[0])\n",
    "    q = [(x,y)]\n",
    "    nines = []\n",
    "    while q:\n",
    "        i,j = q.pop()\n",
    "        if data[i][j] == 9 and (i,j) not in nines:\n",
    "            nines.append((i,j))\n",
    "        elif data[i][j] != 9:\n",
    "            for dir in dirs:\n",
    "                new_i, new_j = i + dir[0], j + dir[1]\n",
    "                if in_range(new_i, new_j) and data[new_i][new_j] == data[i][j] + 1:\n",
    "                    q.append((new_i, new_j))\n",
    "    # print(f\"trail head {x,y} score {len(nines)}\")\n",
    "    return len(nines)\n",
    "\n",
    "def trail_heads2(x,y, data):\n",
    "    dirs = [(1,0), (0,1), (-1,0), (0,-1)]\n",
    "    in_range = lambda a, b : 0 <= a < len(data) and 0 <= b < len(data[0])\n",
    "    q = [(x,y)]\n",
    "    nines = []\n",
    "    result = 0\n",
    "    while q:\n",
    "        i,j = q.pop()\n",
    "        if data[i][j] == 9:\n",
    "            result += 1\n",
    "            # nines.append((i,j))\n",
    "        elif data[i][j] != 9:\n",
    "            for dir in dirs:\n",
    "                new_i, new_j = i + dir[0], j + dir[1]\n",
    "                if in_range(new_i, new_j) and data[new_i][new_j] == data[i][j] + 1:\n",
    "                    q.append((new_i, new_j))\n",
    "    # print(f\"trail head {x,y} score {result}\")\n",
    "    # return len(nines)\n",
    "    return result\n",
    "\n",
    "result1 = 0\n",
    "result2 = 0\n",
    "for i in range(len(data)):\n",
    "    for j in range(len(data[0])):\n",
    "        if data[i][j] == 0:\n",
    "            result1 += trail_heads1(i, j, data)\n",
    "            result2 += trail_heads2(i, j, data)\n",
    "print(result1)\n",
    "print(result2)\n"
   ]
  }
 ],
 "metadata": {
  "kernelspec": {
   "display_name": "Python 3",
   "language": "python",
   "name": "python3"
  },
  "language_info": {
   "codemirror_mode": {
    "name": "ipython",
    "version": 3
   },
   "file_extension": ".py",
   "mimetype": "text/x-python",
   "name": "python",
   "nbconvert_exporter": "python",
   "pygments_lexer": "ipython3",
   "version": "3.10.12"
  }
 },
 "nbformat": 4,
 "nbformat_minor": 2
}
