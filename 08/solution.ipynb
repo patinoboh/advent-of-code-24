{
 "cells": [
  {
   "cell_type": "code",
   "execution_count": 39,
   "metadata": {},
   "outputs": [],
   "source": [
    "file = open(\"input.txt\")\n",
    "content = file.read()\n",
    "file.close()\n",
    "\n",
    "data = [list(line) for line in content.split()]"
   ]
  },
  {
   "cell_type": "code",
   "execution_count": 45,
   "metadata": {},
   "outputs": [
    {
     "name": "stdout",
     "output_type": "stream",
     "text": [
      "part 1 :  222\n",
      "part 2 :  884\n"
     ]
    }
   ],
   "source": [
    "antinodes1 = set()\n",
    "antinodes2 = set()\n",
    "\n",
    "for i in range(len(data)):\n",
    "    for j in range(len(data[0])):\n",
    "        char = data[i][j]\n",
    "        if char not in ['.','#']:\n",
    "            for ii in range(len(data)):\n",
    "                for jj in range(len(data[0])):\n",
    "                    char2 = data[ii][jj]\n",
    "                    if char == char2 and (i,j) != (ii,jj):\n",
    "                        v = ((ii - i), (jj - j))\n",
    "                        # part1 \n",
    "                        antinodes1.add((i - v[0], j - v[1]))\n",
    "                        antinodes1.add((ii + v[0], jj + v[1]))\n",
    "\n",
    "                        for part2 in range(1, max(len(data), len(data[0]))):\n",
    "                            antinodes2.add((i + part2 * v[0], j + part2 * v[1]))\n",
    "                            antinodes2.add((ii - part2 * v[0], jj - part2 * v[1]))\n",
    "\n",
    "print(\"part 1 : \", len([(i,j) for (i,j) in antinodes1 if 0 <= i < len(data) and 0 <= j < len(data[0])]))\n",
    "print(\"part 2 : \", len([(i,j) for (i,j) in antinodes2 if 0 <= i < len(data) and 0 <= j < len(data[0])]))\n"
   ]
  }
 ],
 "metadata": {
  "kernelspec": {
   "display_name": "Python 3",
   "language": "python",
   "name": "python3"
  },
  "language_info": {
   "codemirror_mode": {
    "name": "ipython",
    "version": 3
   },
   "file_extension": ".py",
   "mimetype": "text/x-python",
   "name": "python",
   "nbconvert_exporter": "python",
   "pygments_lexer": "ipython3",
   "version": "3.10.12"
  }
 },
 "nbformat": 4,
 "nbformat_minor": 2
}
