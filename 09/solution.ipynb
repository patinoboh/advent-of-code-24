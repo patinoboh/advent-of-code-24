{
 "cells": [
  {
   "cell_type": "code",
   "execution_count": 4,
   "metadata": {},
   "outputs": [
    {
     "name": "stdout",
     "output_type": "stream",
     "text": [
      "6378826667552\n"
     ]
    },
    {
     "data": {
      "text/plain": [
       "6413328569890"
      ]
     },
     "execution_count": 4,
     "metadata": {},
     "output_type": "execute_result"
    }
   ],
   "source": [
    "file = open(\"input.txt\")\n",
    "data = file.read()\n",
    "file.close()\n",
    "\n",
    "# data = \"2333133121414131402\"\n",
    "data = [int(x) for x in data.strip()]\n",
    "\n",
    "disc = []\n",
    "for i,n in enumerate(data):\n",
    "    disc = disc + (n * ['.'] if i % 2 == 1 else n * [str(i // 2)])\n",
    "\n",
    "def part1(disc):\n",
    "    last = len(disc) - 1\n",
    "    i = 0\n",
    "    while i < last:\n",
    "        if disc[i] != '.':\n",
    "            i += 1\n",
    "        elif disc[last] == '.':\n",
    "            last -= 1\n",
    "        else:\n",
    "            disc[i], disc[last] = disc[last], disc[i]\n",
    "            last -= 1\n",
    "            i += 1\n",
    "    return disc\n",
    "\n",
    "def calc_result(disc):\n",
    "    result = 0\n",
    "    for i,n in enumerate(disc):\n",
    "        if(n != '.'):\n",
    "            result += i * int(n)\n",
    "    return result\n",
    "\n",
    "\n",
    "def first_fit(disc, end_start, end_length):\n",
    "    i = 0\n",
    "    while i < end_start:\n",
    "        symbol = disc[i]\n",
    "        if symbol == '.':\n",
    "            start = i \n",
    "            while i < end_start and disc[i] == '.':\n",
    "                i += 1\n",
    "            length = i - start\n",
    "            if length >= end_length:\n",
    "                disc[end_start : end_start + end_length], disc[start: start + end_length] = disc[start: start + end_length], disc[end_start : end_start + end_length]\n",
    "                return disc\n",
    "        i += 1\n",
    "    return disc\n",
    "            \n",
    "print(calc_result(part1(disc.copy())))\n",
    "\n",
    "symbol = \"\"\n",
    "i = len(disc) - 1\n",
    "while i >= 0 :\n",
    "    symbol = disc[i]\n",
    "    if symbol != '.':\n",
    "        length = 0\n",
    "        end = i\n",
    "\n",
    "        while i >= 0 and symbol == disc[i]:\n",
    "            i -= 1\n",
    "        length = end - i\n",
    "        start = i + 1\n",
    "        disc = first_fit(disc, start, length)\n",
    "    else:\n",
    "        i -= 1\n",
    "\n",
    "calc_result(disc)\n"
   ]
  }
 ],
 "metadata": {
  "kernelspec": {
   "display_name": "Python 3",
   "language": "python",
   "name": "python3"
  },
  "language_info": {
   "codemirror_mode": {
    "name": "ipython",
    "version": 3
   },
   "file_extension": ".py",
   "mimetype": "text/x-python",
   "name": "python",
   "nbconvert_exporter": "python",
   "pygments_lexer": "ipython3",
   "version": "3.10.12"
  }
 },
 "nbformat": 4,
 "nbformat_minor": 2
}
