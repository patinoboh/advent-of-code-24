{
 "cells": [
  {
   "cell_type": "code",
   "execution_count": 102,
   "metadata": {},
   "outputs": [],
   "source": [
    "file = open(\"input.txt\")\n",
    "content = file.read()\n",
    "file.close()\n",
    "\n",
    "\n",
    "# content = \"47|53\\n97|13\\n97|61\\n97|47\\n75|29\\n61|13\\n75|53\\n29|13\\n97|29\\n53|29\\n61|53\\n97|53\\n61|29\\n47|13\\n75|47\\n97|75\\n47|61\\n75|61\\n47|29\\n75|13\\n53|13\\n \\n75,47,61,53,29\\n97,61,53,29,13\\n75,29,13\\n75,97,47,61,53\\n61,13,29\\n97,13,75,29,47\\n\"\n",
    "\n",
    "content = content.split()"
   ]
  },
  {
   "cell_type": "code",
   "execution_count": 110,
   "metadata": {},
   "outputs": [
    {
     "name": "stdout",
     "output_type": "stream",
     "text": [
      "5948\n",
      "3062\n"
     ]
    }
   ],
   "source": [
    "def is_valid(update, before, after):\n",
    "    good = True\n",
    "    for i,x in enumerate(update):\n",
    "        for j,y in enumerate(update):\n",
    "            if i < j:\n",
    "                good &= (x not in before) or (y not in before[x])\n",
    "    return good\n",
    "\n",
    "def fix(update, before, after):\n",
    "    for i,x in enumerate(update):\n",
    "        update = update[:i] + update[i+1:]\n",
    "        for j in range(len(update) + 1):\n",
    "            update.insert(j, x)\n",
    "            if is_valid(update, before, after):\n",
    "                return update\n",
    "            update = update[:j] + update[j+1:]\n",
    "        update.insert(i,x)\n",
    "\n",
    "def fix2(update, before, after):\n",
    "    # greedy!!\n",
    "    new = []\n",
    "    for x in update:\n",
    "        for i in range(len(new) + 1):\n",
    "            new.insert(i,x)\n",
    "            if(is_valid(new, before, after)):\n",
    "                break\n",
    "            else:\n",
    "                new = new[:i] + new[i + 1:]\n",
    "    return new\n",
    "\n",
    "\n",
    "before = dict() # before[x]  = numbers that are before it\n",
    "after = dict() # after[x] = numbers that are after it\n",
    "i = 0\n",
    "line = content[i]\n",
    "while \"|\" in line:\n",
    "    a,b = line.split(\"|\")\n",
    "    a,b = int(a), int(b)\n",
    "    \n",
    "    if a not in after: after[a] = [b]\n",
    "    else: after[a].append(b)\n",
    "    \n",
    "    if b not in before: before[b] = [a]\n",
    "    else: before[b].append(a)\n",
    "    \n",
    "    i += 1\n",
    "    line = content[i]\n",
    "\n",
    "\n",
    "result1 = 0\n",
    "result2 = 0\n",
    "for update_str in content[i:]:\n",
    "    update = [int(x) for x in update_str.split(\",\")]\n",
    "\n",
    "    # part 1 \n",
    "    if is_valid(update, before, after):\n",
    "        result1 += update[len(update) // 2]\n",
    "\n",
    "    # part2\n",
    "    if not is_valid(update, before, after):\n",
    "        result2 += fix2(update, before, after)[len(update) // 2]\n",
    "\n",
    "print(result1)\n",
    "print(result2)\n",
    "\n"
   ]
  }
 ],
 "metadata": {
  "kernelspec": {
   "display_name": "Python 3",
   "language": "python",
   "name": "python3"
  },
  "language_info": {
   "codemirror_mode": {
    "name": "ipython",
    "version": 3
   },
   "file_extension": ".py",
   "mimetype": "text/x-python",
   "name": "python",
   "nbconvert_exporter": "python",
   "pygments_lexer": "ipython3",
   "version": "3.10.12"
  }
 },
 "nbformat": 4,
 "nbformat_minor": 2
}
