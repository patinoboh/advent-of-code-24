{
 "cells": [
  {
   "cell_type": "code",
   "execution_count": 51,
   "metadata": {},
   "outputs": [],
   "source": [
    "file = open(\"input.txt\")\n",
    "content = file.read()\n",
    "file.close()\n",
    "\n",
    "\n",
    "content = \"47|53\\n97|13\\n97|61\\n97|47\\n75|29\\n61|13\\n75|53\\n29|13\\n97|29\\n53|29\\n61|53\\n97|53\\n61|29\\n47|13\\n75|47\\n97|75\\n47|61\\n75|61\\n47|29\\n75|13\\n53|13\\n \\n75,47,61,53,29\\n97,61,53,29,13\\n75,29,13\\n75,97,47,61,53\\n61,13,29\\n97,13,75,29,47\\n\"\n",
    "\n",
    "content = content.split()"
   ]
  },
  {
   "cell_type": "code",
   "execution_count": 71,
   "metadata": {},
   "outputs": [
    {
     "name": "stdout",
     "output_type": "stream",
     "text": [
      "0\n",
      "1\n",
      "2\n",
      "3\n",
      "4\n",
      "5\n"
     ]
    },
    {
     "data": {
      "text/plain": [
       "173"
      ]
     },
     "execution_count": 71,
     "metadata": {},
     "output_type": "execute_result"
    }
   ],
   "source": [
    "import itertools\n",
    "\n",
    "def is_valid(update, before, after):\n",
    "    good = True\n",
    "    for i,x in enumerate(update):\n",
    "        for j,y in enumerate(update):\n",
    "            if i < j:\n",
    "                good &= (y not in before) or (x in before[y])\n",
    "                good &= (x not in after) or (y in after[x])\n",
    "    return good\n",
    "\n",
    "\n",
    "before = dict() # befoter[x]  = numbers that are before it\n",
    "after = dict() # after[x] = numbers that are after it\n",
    "i = 0\n",
    "line = content[i]\n",
    "while \"|\" in line:\n",
    "    a,b = line.split(\"|\")\n",
    "    a,b = int(a), int(b)\n",
    "    \n",
    "    if a not in after: after[a] = [b]\n",
    "    else: after[a].append(b)\n",
    "    \n",
    "    if b not in before: before[b] = [a]\n",
    "    else: before[b].append(a)\n",
    "    \n",
    "    i += 1\n",
    "    line = content[i]\n",
    "\n",
    "\n",
    "result = 0\n",
    "j = 0\n",
    "for update_str in content[i:]:\n",
    "    print(j)\n",
    "    j += 1\n",
    "    update = [int(x) for x in update_str.split(\",\")]\n",
    "\n",
    "    if not is_valid(update, before, after):\n",
    "        new = []\n",
    "        # print(update)\n",
    "        for x in update:\n",
    "            for i in range(len(new) + 1):\n",
    "                new.insert(i,x)\n",
    "                if(is_valid(new, before, after)):\n",
    "                    # print(\"valid : \", new)\n",
    "                    break\n",
    "                else:\n",
    "                    new = new[:i] + new[i + 1:]\n",
    "        result += new[len(new) // 2]\n",
    "\n",
    "result\n",
    "\n",
    "\n"
   ]
  }
 ],
 "metadata": {
  "kernelspec": {
   "display_name": "Python 3",
   "language": "python",
   "name": "python3"
  },
  "language_info": {
   "codemirror_mode": {
    "name": "ipython",
    "version": 3
   },
   "file_extension": ".py",
   "mimetype": "text/x-python",
   "name": "python",
   "nbconvert_exporter": "python",
   "pygments_lexer": "ipython3",
   "version": "3.10.12"
  }
 },
 "nbformat": 4,
 "nbformat_minor": 2
}
