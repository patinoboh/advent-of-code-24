{
 "cells": [
  {
   "cell_type": "code",
   "execution_count": 12,
   "metadata": {},
   "outputs": [],
   "source": [
    "import numpy as np\n",
    "\n",
    "file = open(\"input.txt\")\n",
    "content = file.read()\n",
    "file.close()\n",
    "\n",
    "# content = \"....#.....\\n.........#\\n..........\\n..#.......\\n.......#..\\n..........\\n.#..^.....\\n........#.\\n#.........\\n......#...\"\n",
    "\n",
    "mapa = [list(line) for line in content.split()]\n",
    "mapa = np.asarray(mapa)\n",
    "\n",
    "# up, right, down, left\n",
    "dirs = [(-1,0),(0,1),(1,0),(0,-1)]\n",
    "pos = [(i,j) for i in range(mapa.shape[0]) for j in range(mapa.shape[0]) if  mapa[i,j] == \"^\"][0]"
   ]
  },
  {
   "cell_type": "code",
   "execution_count": 14,
   "metadata": {},
   "outputs": [
    {
     "name": "stdout",
     "output_type": "stream",
     "text": [
      "4752\n",
      "1719\n"
     ]
    }
   ],
   "source": [
    "in_range = lambda pos, mapa: (0 <= pos[0] < mapa.shape[0]) and (0 <= pos[1] < mapa.shape[1])\n",
    "\n",
    "def part1(pos, map):\n",
    "    done = False\n",
    "    dir = 0\n",
    "    while not done:\n",
    "        mapa[pos] = 'X'\n",
    "        new_pos = (pos[0] + dirs[dir][0], pos[1] + dirs[dir][1])\n",
    "        if not in_range(new_pos, mapa):\n",
    "            done = True\n",
    "        elif mapa[new_pos] != \"#\":\n",
    "            pos = new_pos\n",
    "        else:\n",
    "            dir = (dir + 1) % 4\n",
    "    \n",
    "    return np.sum(mapa == \"X\")\n",
    "\n",
    "def is_loop(pos, map):\n",
    "    dir = 0\n",
    "    visited = dict()\n",
    "\n",
    "    while pos not in visited or dir not in visited[pos]:\n",
    "        if pos not in visited: visited[pos] = []\n",
    "        visited[pos].append(dir)\n",
    "        \n",
    "        new_pos = (pos[0] + dirs[dir][0], pos[1] + dirs[dir][1])\n",
    "\n",
    "        if not in_range(new_pos, mapa):\n",
    "            return False\n",
    "        elif mapa[new_pos] != \"#\":\n",
    "            pos = new_pos\n",
    "        else:\n",
    "            dir = (dir + 1) % 4\n",
    "    \n",
    "    return True\n",
    "\n",
    "print(part1(pos, np.ndarray.copy(mapa)))\n",
    "mapa = np.array([list(line) for line in content.split()])\n",
    "\n",
    "result = 0\n",
    "# takes about 2min\n",
    "for i in range(mapa.shape[0]):\n",
    "    for j in range(mapa.shape[1]):\n",
    "        if mapa[i,j] == '.':\n",
    "            mapa[i,j] = '#'\n",
    "            result += is_loop(pos, mapa)\n",
    "            # print(result)\n",
    "            mapa[i,j] = '.'\n",
    "\n",
    "print(result)"
   ]
  }
 ],
 "metadata": {
  "kernelspec": {
   "display_name": "Python 3",
   "language": "python",
   "name": "python3"
  },
  "language_info": {
   "codemirror_mode": {
    "name": "ipython",
    "version": 3
   },
   "file_extension": ".py",
   "mimetype": "text/x-python",
   "name": "python",
   "nbconvert_exporter": "python",
   "pygments_lexer": "ipython3",
   "version": "3.10.12"
  }
 },
 "nbformat": 4,
 "nbformat_minor": 2
}
