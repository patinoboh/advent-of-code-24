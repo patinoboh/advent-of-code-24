{
 "cells": [
  {
   "cell_type": "code",
   "execution_count": null,
   "metadata": {},
   "outputs": [
    {
     "name": "stdout",
     "output_type": "stream",
     "text": [
      "233709840\n"
     ]
    }
   ],
   "source": [
    "import numpy as np\n",
    "import re\n",
    "\n",
    "content = open(\"input.txt\").read().split(\"\\n\")\n",
    "data = [[int(x) for x in re.findall(\"-?[0-9]+\",line)] for line in content[:-1]]\n",
    "w, h = 101, 103\n",
    "m = np.zeros([h,w])\n",
    "\n",
    "for robot in data:\n",
    "    px,py,vx,vy = robot[0],robot[1],robot[2],robot[3]\n",
    "    px = (px + 100 * vx) % w\n",
    "    py = (py + 100 * vy) % h\n",
    "    m[py,px] += 1\n",
    "\n",
    "ul = m[0:h//2,0:w//2]\n",
    "lr = m[0:h//2,w//2+1:]\n",
    "dl = m[h//2+1:,0:w//2]\n",
    "dr = m[h//2+1:,w//2+1:]\n",
    "mm = m != 0\n",
    "\n",
    "print(\"part 1\")\n",
    "print(int(np.sum(ul) * np.sum(lr) * np.sum(dl) * np.sum(dr)))\n",
    "\n"
   ]
  },
  {
   "cell_type": "code",
   "execution_count": null,
   "metadata": {},
   "outputs": [
    {
     "name": "stdout",
     "output_type": "stream",
     "text": [
      "9999\n"
     ]
    }
   ],
   "source": [
    "# not correct style :)\n",
    "def is_tree(m):\n",
    "    h,w = m.shape[0],m.shape[1]\n",
    "    starti,startj = 0,0\n",
    "    for i in range(h):\n",
    "        for j in range(w):\n",
    "            if m[i,j] and not starti and not startj:\n",
    "                starti, startj = i,j\n",
    "    \n",
    "    count = 0\n",
    "    s = np.sum(m)\n",
    "    i,j = starti, startj\n",
    "    # print(starti,startj)\n",
    "    while count < s:\n",
    "        offset = i - starti\n",
    "        line = m[i,j-offset: j + offset + 1]\n",
    "        if np.sum(line) != 2 * offset + 1 or np.sum(m[i,:]) != 2 * offset + 1:\n",
    "            return False\n",
    "        count += np.sum(line)\n",
    "        i += 1\n",
    "    return True\n",
    "\n",
    "# neither is this :)\n",
    "def is_tree2(m):\n",
    "    h,w = m.shape[0],m.shape[1]\n",
    "    starti,startj = 0,0\n",
    "    for i in range(h):\n",
    "        for j in range(w):\n",
    "            if m[i,j] and not starti and not startj:\n",
    "                starti, startj = i,j\n",
    "\n",
    "    count = 0\n",
    "    s = np.sum(m)\n",
    "    i,j = starti, startj\n",
    "    # print(starti,startj)\n",
    "    while count < s - 1:\n",
    "        offset = i - starti\n",
    "        line = m[i,j-offset: j + offset + 1]\n",
    "        if np.sum(line) != 2 * offset + 1 or np.sum(m[i,:]) != 2 * offset + 1:\n",
    "            return False\n",
    "        count += np.sum(line)\n",
    "        i += 1\n",
    "    # print(i, count, s, h, w)\n",
    "    return i < h and count == s - 1 and m[i,j] == True\n",
    "\n",
    "import matplotlib.image \n",
    "\n",
    "# save bitmaps and look thorugh manually :)))))\n",
    "# great task indeed\n",
    "# my answer was 6_220\n",
    "for i in range(0,10_000):\n",
    "    m[:,:] = False\n",
    "    for robot in data:\n",
    "        px,py,vx,vy = robot[0],robot[1],robot[2],robot[3]\n",
    "        m[(py + i * vy) % h,(px + i * vx) % w] = True\n",
    "    \n",
    "    name = f\"kokotiny/{i}.png\"\n",
    "    matplotlib.image.imsave(name, m)\n",
    "\n",
    "\n",
    "\n",
    "def iterate_in_terminal():\n",
    "    i = 0\n",
    "    while not is_tree(m) and not is_tree2(m):\n",
    "        m[:,:] = False\n",
    "        for robot in data:\n",
    "            px,py,vx,vy = robot[0],robot[1],robot[2],robot[3]\n",
    "            m[(py + i * vy) % h,(px + i * vx) % w] = True\n",
    "        i += 1\n",
    "        if  i % 100 == 0:print(i,end=\"\\r\")\n"
   ]
  },
  {
   "cell_type": "code",
   "execution_count": 1,
   "metadata": {},
   "outputs": [
    {
     "ename": "NameError",
     "evalue": "name 'np' is not defined",
     "output_type": "error",
     "traceback": [
      "\u001b[0;31m---------------------------------------------------------------------------\u001b[0m",
      "\u001b[0;31mNameError\u001b[0m                                 Traceback (most recent call last)",
      "Cell \u001b[0;32mIn[1], line 13\u001b[0m\n\u001b[1;32m      1\u001b[0m \u001b[38;5;66;03m# for line in tree1:\u001b[39;00m\n\u001b[1;32m      2\u001b[0m \u001b[38;5;66;03m#     print(\"\".join([\"*\" if x else \" \" for x in line]))\u001b[39;00m\n\u001b[1;32m      4\u001b[0m a \u001b[38;5;241m=\u001b[39m [[\u001b[38;5;241m0\u001b[39m,\u001b[38;5;241m0\u001b[39m,\u001b[38;5;241m0\u001b[39m,\u001b[38;5;241m0\u001b[39m,\u001b[38;5;241m0\u001b[39m,\u001b[38;5;241m0\u001b[39m],\n\u001b[1;32m      5\u001b[0m      [\u001b[38;5;241m0\u001b[39m,\u001b[38;5;241m0\u001b[39m,\u001b[38;5;241m0\u001b[39m,\u001b[38;5;241m0\u001b[39m,\u001b[38;5;241m0\u001b[39m,\u001b[38;5;241m0\u001b[39m],\n\u001b[1;32m      6\u001b[0m      [\u001b[38;5;241m0\u001b[39m,\u001b[38;5;241m0\u001b[39m,\u001b[38;5;241m0\u001b[39m,\u001b[38;5;241m0\u001b[39m,\u001b[38;5;241m0\u001b[39m,\u001b[38;5;241m0\u001b[39m],\n\u001b[0;32m   (...)\u001b[0m\n\u001b[1;32m     11\u001b[0m      \u001b[38;5;66;03m# [1,1,1,1,1,0]\u001b[39;00m\n\u001b[1;32m     12\u001b[0m      ]\n\u001b[0;32m---> 13\u001b[0m a \u001b[38;5;241m=\u001b[39m \u001b[43mnp\u001b[49m\u001b[38;5;241m.\u001b[39masarray(a)\n\u001b[1;32m     14\u001b[0m is_tree2(a)\n",
      "\u001b[0;31mNameError\u001b[0m: name 'np' is not defined"
     ]
    }
   ],
   "source": [
    "\n",
    "# for line in tree1:\n",
    "#     print(\"\".join([\"*\" if x else \" \" for x in line]))\n",
    "\n",
    "a = [[0,0,0,0,0,0],\n",
    "     [0,0,0,0,0,0],\n",
    "     [0,0,0,0,0,0],\n",
    "     [0,0,0,0,0,0],\n",
    "     [0,0,1,0,0,0],\n",
    "     [0,1,1,1,0,0],\n",
    "     [0,0,1,0,0,0],\n",
    "     # [1,1,1,1,1,0]\n",
    "     ]\n",
    "a = np.asarray(a)\n",
    "is_tree2(a)"
   ]
  }
 ],
 "metadata": {
  "kernelspec": {
   "display_name": "Python 3",
   "language": "python",
   "name": "python3"
  },
  "language_info": {
   "codemirror_mode": {
    "name": "ipython",
    "version": 3
   },
   "file_extension": ".py",
   "mimetype": "text/x-python",
   "name": "python",
   "nbconvert_exporter": "python",
   "pygments_lexer": "ipython3",
   "version": "3.10.12"
  }
 },
 "nbformat": 4,
 "nbformat_minor": 2
}
