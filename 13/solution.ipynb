{
 "cells": [
  {
   "cell_type": "code",
   "execution_count": 127,
   "metadata": {},
   "outputs": [
    {
     "name": "stdout",
     "output_type": "stream",
     "text": [
      "77407675412647\n"
     ]
    }
   ],
   "source": [
    "import re\n",
    "content = open(\"input.txt\").read().split(\"\\n\")\n",
    "content = [content[4*i : 4*i + 3] for i in range(len(content) // 4)]\n",
    "prices = [[int(x) for x in re.findall(\"[0-9]+\",line[2])] for line in content]\n",
    "butAs = [[int(x) for x in re.findall(\"[0-9]+\",line[0])] for line in content]\n",
    "butBs = [[int(x) for x in re.findall(\"[0-9]+\",line[1])] for line in content]\n",
    "\n",
    "result = 0\n",
    "for i in range(len(prices)):\n",
    "    cx,cy = prices[i][0],prices[i][1]\n",
    "    xa,xb = butAs[i][0],butBs[i][0]\n",
    "    ya,yb = butAs[i][1],butBs[i][1]\n",
    "    \n",
    "    part2 = 10000000000000\n",
    "    cx,cy = part2 + cx, part2 + cy\n",
    "\n",
    "    # quick maths\n",
    "    a = (cx - xb*cy/yb) / (xa - xb/yb*ya)\n",
    "    b = (cx - a*xa) / xb\n",
    "\n",
    "    float_error = 10e-3 # fuck python numbers\n",
    "    if abs(a - round(a)) < float_error and abs(b - round(b)) < float_error and (0,0) <=(a,b):\n",
    "        result += 3 * a + b\n",
    "\n",
    "print(int(result))"
   ]
  }
 ],
 "metadata": {
  "kernelspec": {
   "display_name": "Python 3",
   "language": "python",
   "name": "python3"
  },
  "language_info": {
   "codemirror_mode": {
    "name": "ipython",
    "version": 3
   },
   "file_extension": ".py",
   "mimetype": "text/x-python",
   "name": "python",
   "nbconvert_exporter": "python",
   "pygments_lexer": "ipython3",
   "version": "3.10.12"
  }
 },
 "nbformat": 4,
 "nbformat_minor": 2
}
