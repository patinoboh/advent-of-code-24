{
 "cells": [
  {
   "cell_type": "code",
   "execution_count": 111,
   "metadata": {},
   "outputs": [],
   "source": [
    "import re\n",
    "file = open(\"input.txt\")\n",
    "data = file.read()\n",
    "file.close()"
   ]
  },
  {
   "cell_type": "code",
   "execution_count": 112,
   "metadata": {},
   "outputs": [
    {
     "name": "stdout",
     "output_type": "stream",
     "text": [
      "163931492\n"
     ]
    }
   ],
   "source": [
    "def first_part(text):\n",
    "    regex = \"mul\\([0-9]*,[0-9]*\\)\"\n",
    "    matches = re.findall(regex, text)\n",
    "    result = 0\n",
    "    for uncorrupted in matches:\n",
    "        a,b = uncorrupted.strip(\"mul(\").strip(\")\").split(\",\")\n",
    "        result += int(a) * int(b)\n",
    "    return result\n",
    "\n",
    "print(first_part(data))"
   ]
  },
  {
   "cell_type": "code",
   "execution_count": 113,
   "metadata": {},
   "outputs": [
    {
     "name": "stdout",
     "output_type": "stream",
     "text": [
      "76911921\n"
     ]
    }
   ],
   "source": [
    "result = 0\n",
    "regex_untill_do = \"do\\(\\)\"\n",
    "regex_untill_dont = \"don\\'t\\(\\)\"\n",
    "\n",
    "on = True\n",
    "while data:\n",
    "    if on:\n",
    "        match = re.search(regex_untill_dont, data)\n",
    "        if match is None:\n",
    "            result += first_part(data)\n",
    "            break\n",
    "        result += first_part(data[:match.span()[1]])\n",
    "        data = data[match.span()[1]:]\n",
    "    elif not on:\n",
    "        match = re.search(regex_untill_do, data)\n",
    "        if match is None:\n",
    "            break\n",
    "        data = data[match.span()[1]:]\n",
    "    on = not on\n",
    "\n",
    "print(result)"
   ]
  }
 ],
 "metadata": {
  "kernelspec": {
   "display_name": "Python 3",
   "language": "python",
   "name": "python3"
  },
  "language_info": {
   "codemirror_mode": {
    "name": "ipython",
    "version": 3
   },
   "file_extension": ".py",
   "mimetype": "text/x-python",
   "name": "python",
   "nbconvert_exporter": "python",
   "pygments_lexer": "ipython3",
   "version": "3.10.12"
  }
 },
 "nbformat": 4,
 "nbformat_minor": 2
}
